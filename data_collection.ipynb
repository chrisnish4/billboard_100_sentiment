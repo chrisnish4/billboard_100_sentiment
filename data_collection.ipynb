{
 "cells": [
  {
   "cell_type": "code",
   "execution_count": 31,
   "id": "fb52cde4",
   "metadata": {},
   "outputs": [],
   "source": [
    "import numpy as np\n",
    "import pandas as pd\n",
    "import requests\n",
    "from bs4 import BeautifulSoup\n",
    "\n",
    "import warnings\n",
    "warnings.filterwarnings('ignore')"
   ]
  },
  {
   "cell_type": "markdown",
   "id": "4cf6a933",
   "metadata": {},
   "source": [
    "# Scrape Billboard Top 100"
   ]
  },
  {
   "cell_type": "code",
   "execution_count": 74,
   "id": "4cd045f1",
   "metadata": {},
   "outputs": [],
   "source": [
    "base_url = 'https://www.billboard.com/charts/year-end/{}/hot-100-songs/'\n",
    "years = [2011, 2012, 2013, 2014, 2015, 2016, 2017, 2018, 2019, 2020]"
   ]
  },
  {
   "cell_type": "code",
   "execution_count": 144,
   "id": "1692215a",
   "metadata": {},
   "outputs": [],
   "source": [
    "### Scrape topp 100 songs by year\n",
    "def get_songs(year):\n",
    "    base_url = 'https://www.billboard.com/charts/year-end/{}/hot-100-songs/'\n",
    "    \n",
    "    song_list = []\n",
    "    page = requests.get(base_url.format(year))\n",
    "    soup = BeautifulSoup(page.content, \"html.parser\")\n",
    "    results = soup.find_all(id='title-of-a-story')\n",
    "    \n",
    "    if year in (2011, 2016):\n",
    "        for i in results[:99]:\n",
    "            song_name = i.text.replace('\\n', '').replace('\\t','')\n",
    "            song_list.append(song_name)\n",
    "    else:\n",
    "        for i in results[:100]:\n",
    "            song_name = i.text.replace('\\n', '').replace('\\t','')\n",
    "            song_list.append(song_name)\n",
    "        \n",
    "    return song_list\n",
    "\n",
    "### Scrape artist names for songs\n",
    "def get_artists(year):\n",
    "    base_url = 'https://www.billboard.com/charts/year-end/{}/hot-100-songs/'\n",
    "    \n",
    "    page = requests.get(base_url.format(year))\n",
    "    soup = BeautifulSoup(page.content, \"html.parser\")\n",
    "    results = soup.find_all('span', class_='c-label')\n",
    "    \n",
    "    artist_list = [results[i].text.replace('\\n', '').replace('\\t','') for i in range(1, len(results)+1, 2)]\n",
    "    \n",
    "    return artist_list"
   ]
  },
  {
   "cell_type": "code",
   "execution_count": 145,
   "id": "09aa35ef",
   "metadata": {},
   "outputs": [],
   "source": [
    "### Aggregating data across all years\n",
    "year_col= []\n",
    "song_col = []\n",
    "artist_col = []# 2011, 2016 missing 1 value each\n",
    "\n",
    "for year in years: \n",
    "    if year in (2011, 2016):\n",
    "        year_100 = np.zeros(99)+year\n",
    "    else:\n",
    "        year_100 = np.zeros(100)+year\n",
    "    year_col = np.concatenate((year_col, year_100), axis=0) \n",
    "    \n",
    "    songs = get_songs(year)\n",
    "    song_col = np.concatenate((song_col, songs), axis=0)\n",
    "    \n",
    "    artists = get_artists(year)\n",
    "    artist_col = np.concatenate((artist_col, artists), axis=0)"
   ]
  },
  {
   "cell_type": "code",
   "execution_count": 147,
   "id": "1690af75",
   "metadata": {},
   "outputs": [],
   "source": [
    "# Creating df\n",
    "charts = dict()\n",
    "charts['year'] = year_col\n",
    "charts['song'] = song_col\n",
    "charts['artist'] = artist_col \n",
    "\n",
    "charts_df = pd.DataFrame(charts)"
   ]
  },
  {
   "cell_type": "code",
   "execution_count": 148,
   "id": "7591e4eb",
   "metadata": {},
   "outputs": [
    {
     "data": {
      "text/html": [
       "<div>\n",
       "<style scoped>\n",
       "    .dataframe tbody tr th:only-of-type {\n",
       "        vertical-align: middle;\n",
       "    }\n",
       "\n",
       "    .dataframe tbody tr th {\n",
       "        vertical-align: top;\n",
       "    }\n",
       "\n",
       "    .dataframe thead th {\n",
       "        text-align: right;\n",
       "    }\n",
       "</style>\n",
       "<table border=\"1\" class=\"dataframe\">\n",
       "  <thead>\n",
       "    <tr style=\"text-align: right;\">\n",
       "      <th></th>\n",
       "      <th>year</th>\n",
       "      <th>song</th>\n",
       "      <th>artist</th>\n",
       "    </tr>\n",
       "  </thead>\n",
       "  <tbody>\n",
       "    <tr>\n",
       "      <th>0</th>\n",
       "      <td>2011.0</td>\n",
       "      <td>Rolling In The Deep</td>\n",
       "      <td>Adele</td>\n",
       "    </tr>\n",
       "    <tr>\n",
       "      <th>1</th>\n",
       "      <td>2011.0</td>\n",
       "      <td>Party Rock Anthem</td>\n",
       "      <td>LMFAO Featuring Lauren Bennett &amp; GoonRock</td>\n",
       "    </tr>\n",
       "    <tr>\n",
       "      <th>2</th>\n",
       "      <td>2011.0</td>\n",
       "      <td>Firework</td>\n",
       "      <td>Katy Perry</td>\n",
       "    </tr>\n",
       "    <tr>\n",
       "      <th>3</th>\n",
       "      <td>2011.0</td>\n",
       "      <td>E.T.</td>\n",
       "      <td>Katy Perry Featuring Kanye West</td>\n",
       "    </tr>\n",
       "    <tr>\n",
       "      <th>4</th>\n",
       "      <td>2011.0</td>\n",
       "      <td>Give Me Everything</td>\n",
       "      <td>Pitbull Featuring Ne-Yo, Afrojack &amp; Nayer</td>\n",
       "    </tr>\n",
       "  </tbody>\n",
       "</table>\n",
       "</div>"
      ],
      "text/plain": [
       "     year                 song                                     artist\n",
       "0  2011.0  Rolling In The Deep                                      Adele\n",
       "1  2011.0    Party Rock Anthem  LMFAO Featuring Lauren Bennett & GoonRock\n",
       "2  2011.0             Firework                                 Katy Perry\n",
       "3  2011.0                 E.T.            Katy Perry Featuring Kanye West\n",
       "4  2011.0   Give Me Everything  Pitbull Featuring Ne-Yo, Afrojack & Nayer"
      ]
     },
     "execution_count": 148,
     "metadata": {},
     "output_type": "execute_result"
    }
   ],
   "source": [
    "charts_df.head()"
   ]
  },
  {
   "cell_type": "markdown",
   "id": "f610daf8",
   "metadata": {},
   "source": [
    "# Collect lyrics from Genius API"
   ]
  },
  {
   "cell_type": "code",
   "execution_count": null,
   "id": "92f7984e",
   "metadata": {},
   "outputs": [],
   "source": []
  }
 ],
 "metadata": {
  "kernelspec": {
   "display_name": "Python 3 (ipykernel)",
   "language": "python",
   "name": "python3"
  },
  "language_info": {
   "codemirror_mode": {
    "name": "ipython",
    "version": 3
   },
   "file_extension": ".py",
   "mimetype": "text/x-python",
   "name": "python",
   "nbconvert_exporter": "python",
   "pygments_lexer": "ipython3",
   "version": "3.7.4"
  }
 },
 "nbformat": 4,
 "nbformat_minor": 5
}
