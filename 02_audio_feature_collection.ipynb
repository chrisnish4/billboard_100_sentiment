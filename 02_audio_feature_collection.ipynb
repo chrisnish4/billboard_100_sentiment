{
 "cells": [
  {
   "cell_type": "code",
   "execution_count": 1,
   "id": "a9cf2e5e",
   "metadata": {},
   "outputs": [],
   "source": [
    "import numpy as np\n",
    "import pandas as pd\n",
    "import requests\n",
    "from difflib import SequenceMatcher\n",
    "import base64\n",
    "from urllib.parse import urlencode\n",
    "import datetime as dt\n",
    "\n",
    "import spotify_cred as sc \n",
    "from spotify_api_client import SpotifyAPI \n",
    "\n",
    "import warnings\n",
    "warnings.filterwarnings('ignore')"
   ]
  },
  {
   "cell_type": "markdown",
   "id": "9ff63001",
   "metadata": {},
   "source": [
    "# Collect audio features from Spotify API"
   ]
  },
  {
   "cell_type": "code",
   "execution_count": 2,
   "id": "f7622787",
   "metadata": {},
   "outputs": [
    {
     "data": {
      "text/html": [
       "<div>\n",
       "<style scoped>\n",
       "    .dataframe tbody tr th:only-of-type {\n",
       "        vertical-align: middle;\n",
       "    }\n",
       "\n",
       "    .dataframe tbody tr th {\n",
       "        vertical-align: top;\n",
       "    }\n",
       "\n",
       "    .dataframe thead th {\n",
       "        text-align: right;\n",
       "    }\n",
       "</style>\n",
       "<table border=\"1\" class=\"dataframe\">\n",
       "  <thead>\n",
       "    <tr style=\"text-align: right;\">\n",
       "      <th></th>\n",
       "      <th>year</th>\n",
       "      <th>song</th>\n",
       "      <th>artist</th>\n",
       "    </tr>\n",
       "  </thead>\n",
       "  <tbody>\n",
       "    <tr>\n",
       "      <th>0</th>\n",
       "      <td>2013.0</td>\n",
       "      <td>Thrift Shop</td>\n",
       "      <td>Macklemore &amp; Ryan Lewis Featuring Wanz</td>\n",
       "    </tr>\n",
       "    <tr>\n",
       "      <th>1</th>\n",
       "      <td>2013.0</td>\n",
       "      <td>Blurred Lines</td>\n",
       "      <td>Robin Thicke Featuring T.I. + Pharrell</td>\n",
       "    </tr>\n",
       "    <tr>\n",
       "      <th>2</th>\n",
       "      <td>2013.0</td>\n",
       "      <td>Radioactive</td>\n",
       "      <td>Imagine Dragons</td>\n",
       "    </tr>\n",
       "    <tr>\n",
       "      <th>3</th>\n",
       "      <td>2013.0</td>\n",
       "      <td>Harlem Shake</td>\n",
       "      <td>Baauer</td>\n",
       "    </tr>\n",
       "    <tr>\n",
       "      <th>4</th>\n",
       "      <td>2013.0</td>\n",
       "      <td>Can't Hold Us</td>\n",
       "      <td>Macklemore &amp; Ryan Lewis Featuring Ray Dalton</td>\n",
       "    </tr>\n",
       "  </tbody>\n",
       "</table>\n",
       "</div>"
      ],
      "text/plain": [
       "     year           song                                        artist\n",
       "0  2013.0    Thrift Shop        Macklemore & Ryan Lewis Featuring Wanz\n",
       "1  2013.0  Blurred Lines        Robin Thicke Featuring T.I. + Pharrell\n",
       "2  2013.0    Radioactive                               Imagine Dragons\n",
       "3  2013.0   Harlem Shake                                        Baauer\n",
       "4  2013.0  Can't Hold Us  Macklemore & Ryan Lewis Featuring Ray Dalton"
      ]
     },
     "execution_count": 2,
     "metadata": {},
     "output_type": "execute_result"
    }
   ],
   "source": [
    "charts_df = pd.read_csv('top_charts.csv')\n",
    "charts_df = charts_df.iloc[:,1:]\n",
    "charts_df.head()"
   ]
  },
  {
   "cell_type": "code",
   "execution_count": 3,
   "id": "6c50b7b8",
   "metadata": {},
   "outputs": [],
   "source": [
    "# Importing credentials\n",
    "spotify_client_id = sc.client_id \n",
    "spotify_secret = sc.client_secret\n",
    "spotify = SpotifyAPI(spotify_client_id, spotify_secret)"
   ]
  },
  {
   "cell_type": "code",
   "execution_count": 4,
   "id": "bbdc84eb",
   "metadata": {},
   "outputs": [
    {
     "data": {
      "text/plain": [
       "True"
      ]
     },
     "execution_count": 4,
     "metadata": {},
     "output_type": "execute_result"
    }
   ],
   "source": [
    "# Verifying that credentials are valid\n",
    "spotify.perform_auth()"
   ]
  },
  {
   "cell_type": "code",
   "execution_count": 5,
   "id": "92911bb5",
   "metadata": {},
   "outputs": [],
   "source": [
    "# Accessing song_id (necessary to get audio features) and popularity score\n",
    "song_id_col = []\n",
    "popularity_col = []\n",
    "\n",
    "\n",
    "for song, artist in zip(charts_df.song, charts_df.artist):\n",
    "    song_id, pop = spotify.get_song_id(song, artist)\n",
    "    \n",
    "    song_id_col.append(song_id)\n",
    "    popularity_col.append(pop)"
   ]
  },
  {
   "cell_type": "code",
   "execution_count": 6,
   "id": "b4f403ff",
   "metadata": {},
   "outputs": [],
   "source": [
    "# Adding popularity and song_id to df\n",
    "charts_df['popularity'] = popularity_col \n",
    "charts_df['song_id'] = song_id_col"
   ]
  },
  {
   "cell_type": "code",
   "execution_count": 7,
   "id": "cd3b71cd",
   "metadata": {},
   "outputs": [],
   "source": [
    "# Collecting audio features\n",
    "audio_features_df = pd.DataFrame()# charts_df.drop(['song_id'], axis=1)\n",
    "\n",
    "for song_id in charts_df.song_id:\n",
    "    audio_feature_dict = spotify.get_audio_features(song_id)\n",
    "    audio_features_df = audio_features_df.append(audio_feature_dict, ignore_index=True)"
   ]
  },
  {
   "cell_type": "code",
   "execution_count": 8,
   "id": "b1184cb8",
   "metadata": {},
   "outputs": [],
   "source": [
    "# Concatenating the top charts df to the audio features df and dropping irrelevant columns\n",
    "song_info = pd.concat((charts_df, audio_features_df), axis=1)\n",
    "song_info = song_info.drop(['song_id', 'id', 'uri', 'track_href', 'analysis_url', 'type'], axis=1)"
   ]
  },
  {
   "cell_type": "code",
   "execution_count": 9,
   "id": "f1464a27",
   "metadata": {},
   "outputs": [],
   "source": [
    "song_info.to_csv('song_info.csv')"
   ]
  }
 ],
 "metadata": {
  "kernelspec": {
   "display_name": "Python 3 (ipykernel)",
   "language": "python",
   "name": "python3"
  },
  "language_info": {
   "codemirror_mode": {
    "name": "ipython",
    "version": 3
   },
   "file_extension": ".py",
   "mimetype": "text/x-python",
   "name": "python",
   "nbconvert_exporter": "python",
   "pygments_lexer": "ipython3",
   "version": "3.7.4"
  }
 },
 "nbformat": 4,
 "nbformat_minor": 5
}
