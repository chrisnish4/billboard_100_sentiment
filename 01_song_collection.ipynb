{
 "cells": [
  {
   "cell_type": "code",
   "execution_count": 1,
   "id": "678665a3",
   "metadata": {},
   "outputs": [],
   "source": [
    "import numpy as np\n",
    "import pandas as pd\n",
    "import requests\n",
    "from bs4 import BeautifulSoup\n",
    "\n",
    "# Personal class/methods\n",
    "from billboard_scraper import BillboardScrape\n",
    "\n",
    "import warnings\n",
    "warnings.filterwarnings('ignore')"
   ]
  },
  {
   "cell_type": "markdown",
   "id": "4fbad8a3",
   "metadata": {},
   "source": [
    "# Scrape Billboard\n",
    "- Scraping the Billboard Yearly Top 100 Charts for 2013-2022 for the top songs from the past decade"
   ]
  },
  {
   "cell_type": "code",
   "execution_count": 2,
   "id": "c44ac909",
   "metadata": {},
   "outputs": [],
   "source": [
    "base_url = 'https://www.billboard.com/charts/year-end/{}/hot-100-songs/'\n",
    "years = [2013, 2014, 2015, 2016, 2017, 2018, 2019, 2020, 2021, 2022]\n",
    "\n",
    "billboard = BillboardScrape()"
   ]
  },
  {
   "cell_type": "code",
   "execution_count": 3,
   "id": "7667d1a8",
   "metadata": {},
   "outputs": [],
   "source": [
    "# Initializing columns \n",
    "year_col = []\n",
    "song_col = []\n",
    "artist_col = []\n",
    "\n",
    "# Scraping songs and artists from each year\n",
    "for year in years:\n",
    "    year_add = billboard.get_year(year)\n",
    "    song_add = billboard.get_songs(year)\n",
    "    artist_add = billboard.get_artists(year)\n",
    "    \n",
    "    year_col = np.concatenate((year_col, year_add), axis=0)\n",
    "    song_col = np.concatenate((song_col, song_add), axis=0)\n",
    "    artist_col = np.concatenate((artist_col, artist_add), axis=0)"
   ]
  },
  {
   "cell_type": "code",
   "execution_count": 4,
   "id": "d3b55c3c",
   "metadata": {},
   "outputs": [],
   "source": [
    "# Creating dataframe\n",
    "charts_df = pd.DataFrame()\n",
    "charts_df['year'] = year_col\n",
    "charts_df['song'] = song_col\n",
    "charts_df['artist'] = artist_col"
   ]
  },
  {
   "cell_type": "code",
   "execution_count": 5,
   "id": "2e53fad7",
   "metadata": {},
   "outputs": [],
   "source": [
    "# Exporting dataframe\n",
    "charts_df.to_csv(\"top_charts.csv\")"
   ]
  }
 ],
 "metadata": {
  "kernelspec": {
   "display_name": "Python 3 (ipykernel)",
   "language": "python",
   "name": "python3"
  },
  "language_info": {
   "codemirror_mode": {
    "name": "ipython",
    "version": 3
   },
   "file_extension": ".py",
   "mimetype": "text/x-python",
   "name": "python",
   "nbconvert_exporter": "python",
   "pygments_lexer": "ipython3",
   "version": "3.7.4"
  }
 },
 "nbformat": 4,
 "nbformat_minor": 5
}
