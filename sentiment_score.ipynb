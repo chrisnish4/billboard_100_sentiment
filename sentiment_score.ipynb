{
 "cells": [
  {
   "cell_type": "code",
   "execution_count": 28,
   "id": "e2348537",
   "metadata": {},
   "outputs": [],
   "source": [
    "import numpy as np\n",
    "import pandas as pd\n",
    "import nltk\n",
    "from nltk.sentiment.vader import SentimentIntensityAnalyzer"
   ]
  },
  {
   "cell_type": "code",
   "execution_count": 38,
   "id": "4bcce29a",
   "metadata": {},
   "outputs": [],
   "source": [
    "sent_analyzer = SentimentIntensityAnalyzer()\n",
    "\n",
    "def get_sentiment(text):\n",
    "    if type(text) != str:\n",
    "        return None\n",
    "    compound = sent_analyzer.polarity_scores(text)['compound']\n",
    "    \n",
    "    return compound"
   ]
  },
  {
   "cell_type": "code",
   "execution_count": 45,
   "id": "114d2824",
   "metadata": {},
   "outputs": [
    {
     "data": {
      "text/html": [
       "<div>\n",
       "<style scoped>\n",
       "    .dataframe tbody tr th:only-of-type {\n",
       "        vertical-align: middle;\n",
       "    }\n",
       "\n",
       "    .dataframe tbody tr th {\n",
       "        vertical-align: top;\n",
       "    }\n",
       "\n",
       "    .dataframe thead th {\n",
       "        text-align: right;\n",
       "    }\n",
       "</style>\n",
       "<table border=\"1\" class=\"dataframe\">\n",
       "  <thead>\n",
       "    <tr style=\"text-align: right;\">\n",
       "      <th></th>\n",
       "      <th>song</th>\n",
       "      <th>aritst</th>\n",
       "      <th>lyrics</th>\n",
       "    </tr>\n",
       "  </thead>\n",
       "  <tbody>\n",
       "    <tr>\n",
       "      <th>0</th>\n",
       "      <td>Rolling In The Deep</td>\n",
       "      <td>Adele</td>\n",
       "      <td>[Verse 1]There's a fire starting in my heartRe...</td>\n",
       "    </tr>\n",
       "    <tr>\n",
       "      <th>1</th>\n",
       "      <td>Party Rock Anthem</td>\n",
       "      <td>LMFAO Featuring Lauren Bennett &amp; GoonRock</td>\n",
       "      <td>Party rock! Yeah! Whoo! Let's go!Party rock is...</td>\n",
       "    </tr>\n",
       "    <tr>\n",
       "      <th>2</th>\n",
       "      <td>Firework</td>\n",
       "      <td>Katy Perry</td>\n",
       "      <td>[Verse 1]Do you ever feel like a plastic bagDr...</td>\n",
       "    </tr>\n",
       "    <tr>\n",
       "      <th>3</th>\n",
       "      <td>E.T.</td>\n",
       "      <td>Katy Perry Featuring Kanye West</td>\n",
       "      <td>[Intro: Kanye West]I got a dirty mind, I got f...</td>\n",
       "    </tr>\n",
       "    <tr>\n",
       "      <th>4</th>\n",
       "      <td>Give Me Everything</td>\n",
       "      <td>Pitbull Featuring Ne-Yo, Afrojack &amp; Nayer</td>\n",
       "      <td>[Chorus: Ne-Yo &amp; Nayer]Tonight, I want all of ...</td>\n",
       "    </tr>\n",
       "  </tbody>\n",
       "</table>\n",
       "</div>"
      ],
      "text/plain": [
       "                  song                                     aritst  \\\n",
       "0  Rolling In The Deep                                      Adele   \n",
       "1    Party Rock Anthem  LMFAO Featuring Lauren Bennett & GoonRock   \n",
       "2             Firework                                 Katy Perry   \n",
       "3                 E.T.            Katy Perry Featuring Kanye West   \n",
       "4   Give Me Everything  Pitbull Featuring Ne-Yo, Afrojack & Nayer   \n",
       "\n",
       "                                              lyrics  \n",
       "0  [Verse 1]There's a fire starting in my heartRe...  \n",
       "1  Party rock! Yeah! Whoo! Let's go!Party rock is...  \n",
       "2  [Verse 1]Do you ever feel like a plastic bagDr...  \n",
       "3  [Intro: Kanye West]I got a dirty mind, I got f...  \n",
       "4  [Chorus: Ne-Yo & Nayer]Tonight, I want all of ...  "
      ]
     },
     "execution_count": 45,
     "metadata": {},
     "output_type": "execute_result"
    }
   ],
   "source": [
    "lyrics = pd.read_csv('lyrics.csv')\n",
    "lyrics = lyrics.iloc[:,1:]\n",
    "lyrics.head()"
   ]
  },
  {
   "cell_type": "code",
   "execution_count": 41,
   "id": "f6000901",
   "metadata": {},
   "outputs": [],
   "source": [
    "sentiment_scores = []\n",
    "for i in lyrics.lyrics:\n",
    "    score = get_sentiment(i)\n",
    "    sentiment_scores.append(score)"
   ]
  },
  {
   "cell_type": "code",
   "execution_count": 49,
   "id": "99ad4466",
   "metadata": {},
   "outputs": [],
   "source": [
    "sentiments = []\n",
    "for i in sentiment_scores:\n",
    "    if i == None:\n",
    "        sentiments.append(None)\n",
    "    elif i >= 0.05:\n",
    "        sentiments.append('pos')\n",
    "    elif i <= -0.05:\n",
    "        sentiments.append('neg')\n",
    "    else:\n",
    "        sentiments.append('neu')"
   ]
  },
  {
   "cell_type": "code",
   "execution_count": 53,
   "id": "d6f7e9a3",
   "metadata": {},
   "outputs": [
    {
     "data": {
      "text/plain": [
       "Index(['song', 'aritst', 'lyrics'], dtype='object')"
      ]
     },
     "execution_count": 53,
     "metadata": {},
     "output_type": "execute_result"
    }
   ],
   "source": [
    "lyrics.columns"
   ]
  },
  {
   "cell_type": "code",
   "execution_count": 54,
   "id": "c65eda6d",
   "metadata": {},
   "outputs": [],
   "source": [
    "sentiment_df = pd.DataFrame()\n",
    "sentiment_df['song'] = lyrics.song\n",
    "sentiment_df['artist'] = lyrics.aritst\n",
    "sentiment_df['sentiment_score'] = sentiment_scores\n",
    "sentiment_df['sentiment'] = sentiments"
   ]
  },
  {
   "cell_type": "code",
   "execution_count": 57,
   "id": "7c430f2e",
   "metadata": {},
   "outputs": [],
   "source": [
    "sentiment_df.to_csv('sentiment.csv')"
   ]
  },
  {
   "cell_type": "code",
   "execution_count": null,
   "id": "5a9983ef",
   "metadata": {},
   "outputs": [],
   "source": []
  }
 ],
 "metadata": {
  "kernelspec": {
   "display_name": "Python 3 (ipykernel)",
   "language": "python",
   "name": "python3"
  },
  "language_info": {
   "codemirror_mode": {
    "name": "ipython",
    "version": 3
   },
   "file_extension": ".py",
   "mimetype": "text/x-python",
   "name": "python",
   "nbconvert_exporter": "python",
   "pygments_lexer": "ipython3",
   "version": "3.7.4"
  }
 },
 "nbformat": 4,
 "nbformat_minor": 5
}
